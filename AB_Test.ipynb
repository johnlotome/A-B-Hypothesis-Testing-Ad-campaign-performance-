{
  "nbformat": 4,
  "nbformat_minor": 0,
  "metadata": {
    "colab": {
      "name": "AB Test.ipynb",
      "provenance": []
    },
    "kernelspec": {
      "display_name": "Python 3",
      "language": "python",
      "name": "python3"
    },
    "language_info": {
      "codemirror_mode": {
        "name": "ipython",
        "version": 3
      },
      "file_extension": ".py",
      "mimetype": "text/x-python",
      "name": "python",
      "nbconvert_exporter": "python",
      "pygments_lexer": "ipython3",
      "version": "3.7.6"
    },
    "toc": {
      "base_numbering": 1,
      "nav_menu": {},
      "number_sections": true,
      "sideBar": true,
      "skip_h1_title": false,
      "title_cell": "Table of Contents",
      "title_sidebar": "Contents",
      "toc_cell": false,
      "toc_position": {},
      "toc_section_display": true,
      "toc_window_display": false
    }
  },
  "cells": [
    {
      "cell_type": "code",
      "metadata": {
        "colab_type": "code",
        "id": "jmBkb0bzU99p",
        "colab": {
          "base_uri": "https://localhost:8080/",
          "height": 71
        },
        "outputId": "84806820-20d3-41fb-c912-713fd5ee80be"
      },
      "source": [
        "import math as mt\n",
        "from scipy.stats import norm \n",
        "import pandas as pd\n",
        "import numpy as np\n",
        "import matplotlib \n",
        "import matplotlib.pyplot as plt\n",
        "import seaborn as sns\n",
        "\n",
        "%matplotlib inline"
      ],
      "execution_count": 2,
      "outputs": [
        {
          "output_type": "stream",
          "text": [
            "/usr/local/lib/python3.6/dist-packages/statsmodels/tools/_testing.py:19: FutureWarning: pandas.util.testing is deprecated. Use the functions in the public API at pandas.testing instead.\n",
            "  import pandas.util.testing as tm\n"
          ],
          "name": "stderr"
        }
      ]
    },
    {
      "cell_type": "code",
      "metadata": {
        "colab_type": "code",
        "id": "2E4cTPmLU99w",
        "colab": {},
        "outputId": "81889973-0da4-41e8-f993-7ef4352ee94f"
      },
      "source": [
        "df = pd.read_csv('AdSmartABdata.csv')\n",
        "df.head(5)"
      ],
      "execution_count": null,
      "outputs": [
        {
          "output_type": "execute_result",
          "data": {
            "text/html": [
              "<div>\n",
              "<style scoped>\n",
              "    .dataframe tbody tr th:only-of-type {\n",
              "        vertical-align: middle;\n",
              "    }\n",
              "\n",
              "    .dataframe tbody tr th {\n",
              "        vertical-align: top;\n",
              "    }\n",
              "\n",
              "    .dataframe thead th {\n",
              "        text-align: right;\n",
              "    }\n",
              "</style>\n",
              "<table border=\"1\" class=\"dataframe\">\n",
              "  <thead>\n",
              "    <tr style=\"text-align: right;\">\n",
              "      <th></th>\n",
              "      <th>auction_id</th>\n",
              "      <th>experiment</th>\n",
              "      <th>date</th>\n",
              "      <th>hour</th>\n",
              "      <th>device_make</th>\n",
              "      <th>platform_os</th>\n",
              "      <th>browser</th>\n",
              "      <th>yes</th>\n",
              "      <th>no</th>\n",
              "    </tr>\n",
              "  </thead>\n",
              "  <tbody>\n",
              "    <tr>\n",
              "      <th>0</th>\n",
              "      <td>0008ef63-77a7-448b-bd1e-075f42c55e39</td>\n",
              "      <td>exposed</td>\n",
              "      <td>2020-07-10</td>\n",
              "      <td>8</td>\n",
              "      <td>Generic Smartphone</td>\n",
              "      <td>6</td>\n",
              "      <td>Chrome Mobile</td>\n",
              "      <td>0</td>\n",
              "      <td>0</td>\n",
              "    </tr>\n",
              "    <tr>\n",
              "      <th>1</th>\n",
              "      <td>000eabc5-17ce-4137-8efe-44734d914446</td>\n",
              "      <td>exposed</td>\n",
              "      <td>2020-07-07</td>\n",
              "      <td>10</td>\n",
              "      <td>Generic Smartphone</td>\n",
              "      <td>6</td>\n",
              "      <td>Chrome Mobile</td>\n",
              "      <td>0</td>\n",
              "      <td>0</td>\n",
              "    </tr>\n",
              "    <tr>\n",
              "      <th>2</th>\n",
              "      <td>0016d14a-ae18-4a02-a204-6ba53b52f2ed</td>\n",
              "      <td>exposed</td>\n",
              "      <td>2020-07-05</td>\n",
              "      <td>2</td>\n",
              "      <td>E5823</td>\n",
              "      <td>6</td>\n",
              "      <td>Chrome Mobile WebView</td>\n",
              "      <td>0</td>\n",
              "      <td>1</td>\n",
              "    </tr>\n",
              "    <tr>\n",
              "      <th>3</th>\n",
              "      <td>00187412-2932-4542-a8ef-3633901c98d9</td>\n",
              "      <td>control</td>\n",
              "      <td>2020-07-03</td>\n",
              "      <td>15</td>\n",
              "      <td>Samsung SM-A705FN</td>\n",
              "      <td>6</td>\n",
              "      <td>Facebook</td>\n",
              "      <td>0</td>\n",
              "      <td>0</td>\n",
              "    </tr>\n",
              "    <tr>\n",
              "      <th>4</th>\n",
              "      <td>001a7785-d3fe-4e11-a344-c8735acacc2c</td>\n",
              "      <td>control</td>\n",
              "      <td>2020-07-03</td>\n",
              "      <td>15</td>\n",
              "      <td>Generic Smartphone</td>\n",
              "      <td>6</td>\n",
              "      <td>Chrome Mobile</td>\n",
              "      <td>0</td>\n",
              "      <td>0</td>\n",
              "    </tr>\n",
              "  </tbody>\n",
              "</table>\n",
              "</div>"
            ],
            "text/plain": [
              "                             auction_id experiment        date  hour  \\\n",
              "0  0008ef63-77a7-448b-bd1e-075f42c55e39    exposed  2020-07-10     8   \n",
              "1  000eabc5-17ce-4137-8efe-44734d914446    exposed  2020-07-07    10   \n",
              "2  0016d14a-ae18-4a02-a204-6ba53b52f2ed    exposed  2020-07-05     2   \n",
              "3  00187412-2932-4542-a8ef-3633901c98d9    control  2020-07-03    15   \n",
              "4  001a7785-d3fe-4e11-a344-c8735acacc2c    control  2020-07-03    15   \n",
              "\n",
              "          device_make  platform_os                browser  yes  no  \n",
              "0  Generic Smartphone            6          Chrome Mobile    0   0  \n",
              "1  Generic Smartphone            6          Chrome Mobile    0   0  \n",
              "2               E5823            6  Chrome Mobile WebView    0   1  \n",
              "3   Samsung SM-A705FN            6               Facebook    0   0  \n",
              "4  Generic Smartphone            6          Chrome Mobile    0   0  "
            ]
          },
          "metadata": {
            "tags": []
          },
          "execution_count": 2
        }
      ]
    },
    {
      "cell_type": "code",
      "metadata": {
        "colab_type": "code",
        "id": "u4p8OtdIU991",
        "colab": {},
        "outputId": "919036f0-98dc-410f-de55-2744d1dc9d38"
      },
      "source": [
        "df.loc[df['experiment'] == 'exposed'].head()"
      ],
      "execution_count": null,
      "outputs": [
        {
          "output_type": "execute_result",
          "data": {
            "text/html": [
              "<div>\n",
              "<style scoped>\n",
              "    .dataframe tbody tr th:only-of-type {\n",
              "        vertical-align: middle;\n",
              "    }\n",
              "\n",
              "    .dataframe tbody tr th {\n",
              "        vertical-align: top;\n",
              "    }\n",
              "\n",
              "    .dataframe thead th {\n",
              "        text-align: right;\n",
              "    }\n",
              "</style>\n",
              "<table border=\"1\" class=\"dataframe\">\n",
              "  <thead>\n",
              "    <tr style=\"text-align: right;\">\n",
              "      <th></th>\n",
              "      <th>auction_id</th>\n",
              "      <th>experiment</th>\n",
              "      <th>date</th>\n",
              "      <th>hour</th>\n",
              "      <th>device_make</th>\n",
              "      <th>platform_os</th>\n",
              "      <th>browser</th>\n",
              "      <th>yes</th>\n",
              "      <th>no</th>\n",
              "    </tr>\n",
              "  </thead>\n",
              "  <tbody>\n",
              "    <tr>\n",
              "      <th>0</th>\n",
              "      <td>0008ef63-77a7-448b-bd1e-075f42c55e39</td>\n",
              "      <td>exposed</td>\n",
              "      <td>2020-07-10</td>\n",
              "      <td>8</td>\n",
              "      <td>Generic Smartphone</td>\n",
              "      <td>6</td>\n",
              "      <td>Chrome Mobile</td>\n",
              "      <td>0</td>\n",
              "      <td>0</td>\n",
              "    </tr>\n",
              "    <tr>\n",
              "      <th>1</th>\n",
              "      <td>000eabc5-17ce-4137-8efe-44734d914446</td>\n",
              "      <td>exposed</td>\n",
              "      <td>2020-07-07</td>\n",
              "      <td>10</td>\n",
              "      <td>Generic Smartphone</td>\n",
              "      <td>6</td>\n",
              "      <td>Chrome Mobile</td>\n",
              "      <td>0</td>\n",
              "      <td>0</td>\n",
              "    </tr>\n",
              "    <tr>\n",
              "      <th>2</th>\n",
              "      <td>0016d14a-ae18-4a02-a204-6ba53b52f2ed</td>\n",
              "      <td>exposed</td>\n",
              "      <td>2020-07-05</td>\n",
              "      <td>2</td>\n",
              "      <td>E5823</td>\n",
              "      <td>6</td>\n",
              "      <td>Chrome Mobile WebView</td>\n",
              "      <td>0</td>\n",
              "      <td>1</td>\n",
              "    </tr>\n",
              "    <tr>\n",
              "      <th>8</th>\n",
              "      <td>004940f5-c642-417a-8fd2-c8e5d989f358</td>\n",
              "      <td>exposed</td>\n",
              "      <td>2020-07-04</td>\n",
              "      <td>0</td>\n",
              "      <td>Generic Smartphone</td>\n",
              "      <td>6</td>\n",
              "      <td>Chrome Mobile WebView</td>\n",
              "      <td>0</td>\n",
              "      <td>0</td>\n",
              "    </tr>\n",
              "    <tr>\n",
              "      <th>13</th>\n",
              "      <td>006b9c6e-5f5d-4385-a811-ff20a24b30ac</td>\n",
              "      <td>exposed</td>\n",
              "      <td>2020-07-06</td>\n",
              "      <td>8</td>\n",
              "      <td>Samsung SM-G973F</td>\n",
              "      <td>6</td>\n",
              "      <td>Chrome Mobile WebView</td>\n",
              "      <td>0</td>\n",
              "      <td>0</td>\n",
              "    </tr>\n",
              "  </tbody>\n",
              "</table>\n",
              "</div>"
            ],
            "text/plain": [
              "                              auction_id experiment        date  hour  \\\n",
              "0   0008ef63-77a7-448b-bd1e-075f42c55e39    exposed  2020-07-10     8   \n",
              "1   000eabc5-17ce-4137-8efe-44734d914446    exposed  2020-07-07    10   \n",
              "2   0016d14a-ae18-4a02-a204-6ba53b52f2ed    exposed  2020-07-05     2   \n",
              "8   004940f5-c642-417a-8fd2-c8e5d989f358    exposed  2020-07-04     0   \n",
              "13  006b9c6e-5f5d-4385-a811-ff20a24b30ac    exposed  2020-07-06     8   \n",
              "\n",
              "           device_make  platform_os                browser  yes  no  \n",
              "0   Generic Smartphone            6          Chrome Mobile    0   0  \n",
              "1   Generic Smartphone            6          Chrome Mobile    0   0  \n",
              "2                E5823            6  Chrome Mobile WebView    0   1  \n",
              "8   Generic Smartphone            6  Chrome Mobile WebView    0   0  \n",
              "13    Samsung SM-G973F            6  Chrome Mobile WebView    0   0  "
            ]
          },
          "metadata": {
            "tags": []
          },
          "execution_count": 3
        }
      ]
    },
    {
      "cell_type": "markdown",
      "metadata": {
        "id": "xnlkMo7_6bWv",
        "colab_type": "text"
      },
      "source": [
        "columns names with respective data types"
      ]
    },
    {
      "cell_type": "code",
      "metadata": {
        "id": "02vB4Wwq6bWx",
        "colab_type": "code",
        "colab": {},
        "outputId": "a18fd20b-b757-40eb-9743-a952c166c7f9"
      },
      "source": [
        "print(\"Column Names:\")\n",
        "print(\"----------------\")\n",
        "for col in df.columns:\n",
        "    print(col+\" (\"+str(df[col].dtype)+\")\")\n",
        "print(\"----------------\")"
      ],
      "execution_count": null,
      "outputs": [
        {
          "output_type": "stream",
          "text": [
            "Column Names:\n",
            "----------------\n",
            "auction_id (object)\n",
            "experiment (object)\n",
            "date (object)\n",
            "hour (int64)\n",
            "device_make (object)\n",
            "platform_os (int64)\n",
            "browser (object)\n",
            "yes (int64)\n",
            "no (int64)\n",
            "----------------\n"
          ],
          "name": "stdout"
        }
      ]
    },
    {
      "cell_type": "markdown",
      "metadata": {
        "id": "BGlM-3Gv6bW4",
        "colab_type": "text"
      },
      "source": [
        "unique values in each column"
      ]
    },
    {
      "cell_type": "code",
      "metadata": {
        "id": "7CAi8Kui6bW5",
        "colab_type": "code",
        "colab": {},
        "outputId": "af6e6dd4-66a3-4799-9efc-2c7183431464"
      },
      "source": [
        "df.nunique()"
      ],
      "execution_count": null,
      "outputs": [
        {
          "output_type": "execute_result",
          "data": {
            "text/plain": [
              "auction_id     8077\n",
              "experiment        2\n",
              "date              8\n",
              "hour             24\n",
              "device_make     270\n",
              "platform_os       3\n",
              "browser          15\n",
              "yes               2\n",
              "no                2\n",
              "dtype: int64"
            ]
          },
          "metadata": {
            "tags": []
          },
          "execution_count": 9
        }
      ]
    },
    {
      "cell_type": "code",
      "metadata": {
        "id": "AW0TvrgG6bXI",
        "colab_type": "code",
        "colab": {},
        "outputId": "777232d9-17f6-4642-e7d6-5e749a6bfb4c"
      },
      "source": [
        "df.describe(include= 'all')"
      ],
      "execution_count": null,
      "outputs": [
        {
          "output_type": "execute_result",
          "data": {
            "text/html": [
              "<div>\n",
              "<style scoped>\n",
              "    .dataframe tbody tr th:only-of-type {\n",
              "        vertical-align: middle;\n",
              "    }\n",
              "\n",
              "    .dataframe tbody tr th {\n",
              "        vertical-align: top;\n",
              "    }\n",
              "\n",
              "    .dataframe thead th {\n",
              "        text-align: right;\n",
              "    }\n",
              "</style>\n",
              "<table border=\"1\" class=\"dataframe\">\n",
              "  <thead>\n",
              "    <tr style=\"text-align: right;\">\n",
              "      <th></th>\n",
              "      <th>auction_id</th>\n",
              "      <th>experiment</th>\n",
              "      <th>date</th>\n",
              "      <th>hour</th>\n",
              "      <th>device_make</th>\n",
              "      <th>platform_os</th>\n",
              "      <th>browser</th>\n",
              "      <th>yes</th>\n",
              "      <th>no</th>\n",
              "    </tr>\n",
              "  </thead>\n",
              "  <tbody>\n",
              "    <tr>\n",
              "      <th>count</th>\n",
              "      <td>8077</td>\n",
              "      <td>8077</td>\n",
              "      <td>8077</td>\n",
              "      <td>8077.000000</td>\n",
              "      <td>8077</td>\n",
              "      <td>8077.000000</td>\n",
              "      <td>8077</td>\n",
              "      <td>8077.000000</td>\n",
              "      <td>8077.000000</td>\n",
              "    </tr>\n",
              "    <tr>\n",
              "      <th>unique</th>\n",
              "      <td>8077</td>\n",
              "      <td>2</td>\n",
              "      <td>8</td>\n",
              "      <td>NaN</td>\n",
              "      <td>270</td>\n",
              "      <td>NaN</td>\n",
              "      <td>15</td>\n",
              "      <td>NaN</td>\n",
              "      <td>NaN</td>\n",
              "    </tr>\n",
              "    <tr>\n",
              "      <th>top</th>\n",
              "      <td>a568a034-46e7-4bc3-83d8-eaca53f491ba</td>\n",
              "      <td>control</td>\n",
              "      <td>2020-07-03</td>\n",
              "      <td>NaN</td>\n",
              "      <td>Generic Smartphone</td>\n",
              "      <td>NaN</td>\n",
              "      <td>Chrome Mobile</td>\n",
              "      <td>NaN</td>\n",
              "      <td>NaN</td>\n",
              "    </tr>\n",
              "    <tr>\n",
              "      <th>freq</th>\n",
              "      <td>1</td>\n",
              "      <td>4071</td>\n",
              "      <td>2015</td>\n",
              "      <td>NaN</td>\n",
              "      <td>4743</td>\n",
              "      <td>NaN</td>\n",
              "      <td>4554</td>\n",
              "      <td>NaN</td>\n",
              "      <td>NaN</td>\n",
              "    </tr>\n",
              "    <tr>\n",
              "      <th>mean</th>\n",
              "      <td>NaN</td>\n",
              "      <td>NaN</td>\n",
              "      <td>NaN</td>\n",
              "      <td>11.615080</td>\n",
              "      <td>NaN</td>\n",
              "      <td>5.947134</td>\n",
              "      <td>NaN</td>\n",
              "      <td>0.070818</td>\n",
              "      <td>0.083075</td>\n",
              "    </tr>\n",
              "    <tr>\n",
              "      <th>std</th>\n",
              "      <td>NaN</td>\n",
              "      <td>NaN</td>\n",
              "      <td>NaN</td>\n",
              "      <td>5.734879</td>\n",
              "      <td>NaN</td>\n",
              "      <td>0.224333</td>\n",
              "      <td>NaN</td>\n",
              "      <td>0.256537</td>\n",
              "      <td>0.276013</td>\n",
              "    </tr>\n",
              "    <tr>\n",
              "      <th>min</th>\n",
              "      <td>NaN</td>\n",
              "      <td>NaN</td>\n",
              "      <td>NaN</td>\n",
              "      <td>0.000000</td>\n",
              "      <td>NaN</td>\n",
              "      <td>5.000000</td>\n",
              "      <td>NaN</td>\n",
              "      <td>0.000000</td>\n",
              "      <td>0.000000</td>\n",
              "    </tr>\n",
              "    <tr>\n",
              "      <th>25%</th>\n",
              "      <td>NaN</td>\n",
              "      <td>NaN</td>\n",
              "      <td>NaN</td>\n",
              "      <td>7.000000</td>\n",
              "      <td>NaN</td>\n",
              "      <td>6.000000</td>\n",
              "      <td>NaN</td>\n",
              "      <td>0.000000</td>\n",
              "      <td>0.000000</td>\n",
              "    </tr>\n",
              "    <tr>\n",
              "      <th>50%</th>\n",
              "      <td>NaN</td>\n",
              "      <td>NaN</td>\n",
              "      <td>NaN</td>\n",
              "      <td>13.000000</td>\n",
              "      <td>NaN</td>\n",
              "      <td>6.000000</td>\n",
              "      <td>NaN</td>\n",
              "      <td>0.000000</td>\n",
              "      <td>0.000000</td>\n",
              "    </tr>\n",
              "    <tr>\n",
              "      <th>75%</th>\n",
              "      <td>NaN</td>\n",
              "      <td>NaN</td>\n",
              "      <td>NaN</td>\n",
              "      <td>15.000000</td>\n",
              "      <td>NaN</td>\n",
              "      <td>6.000000</td>\n",
              "      <td>NaN</td>\n",
              "      <td>0.000000</td>\n",
              "      <td>0.000000</td>\n",
              "    </tr>\n",
              "    <tr>\n",
              "      <th>max</th>\n",
              "      <td>NaN</td>\n",
              "      <td>NaN</td>\n",
              "      <td>NaN</td>\n",
              "      <td>23.000000</td>\n",
              "      <td>NaN</td>\n",
              "      <td>7.000000</td>\n",
              "      <td>NaN</td>\n",
              "      <td>1.000000</td>\n",
              "      <td>1.000000</td>\n",
              "    </tr>\n",
              "  </tbody>\n",
              "</table>\n",
              "</div>"
            ],
            "text/plain": [
              "                                  auction_id experiment        date  \\\n",
              "count                                   8077       8077        8077   \n",
              "unique                                  8077          2           8   \n",
              "top     a568a034-46e7-4bc3-83d8-eaca53f491ba    control  2020-07-03   \n",
              "freq                                       1       4071        2015   \n",
              "mean                                     NaN        NaN         NaN   \n",
              "std                                      NaN        NaN         NaN   \n",
              "min                                      NaN        NaN         NaN   \n",
              "25%                                      NaN        NaN         NaN   \n",
              "50%                                      NaN        NaN         NaN   \n",
              "75%                                      NaN        NaN         NaN   \n",
              "max                                      NaN        NaN         NaN   \n",
              "\n",
              "               hour         device_make  platform_os        browser  \\\n",
              "count   8077.000000                8077  8077.000000           8077   \n",
              "unique          NaN                 270          NaN             15   \n",
              "top             NaN  Generic Smartphone          NaN  Chrome Mobile   \n",
              "freq            NaN                4743          NaN           4554   \n",
              "mean      11.615080                 NaN     5.947134            NaN   \n",
              "std        5.734879                 NaN     0.224333            NaN   \n",
              "min        0.000000                 NaN     5.000000            NaN   \n",
              "25%        7.000000                 NaN     6.000000            NaN   \n",
              "50%       13.000000                 NaN     6.000000            NaN   \n",
              "75%       15.000000                 NaN     6.000000            NaN   \n",
              "max       23.000000                 NaN     7.000000            NaN   \n",
              "\n",
              "                yes           no  \n",
              "count   8077.000000  8077.000000  \n",
              "unique          NaN          NaN  \n",
              "top             NaN          NaN  \n",
              "freq            NaN          NaN  \n",
              "mean       0.070818     0.083075  \n",
              "std        0.256537     0.276013  \n",
              "min        0.000000     0.000000  \n",
              "25%        0.000000     0.000000  \n",
              "50%        0.000000     0.000000  \n",
              "75%        0.000000     0.000000  \n",
              "max        1.000000     1.000000  "
            ]
          },
          "metadata": {
            "tags": []
          },
          "execution_count": 13
        }
      ]
    },
    {
      "cell_type": "markdown",
      "metadata": {
        "id": "IZ0-W_hQ6bXO",
        "colab_type": "text"
      },
      "source": [
        "# TASK 1"
      ]
    },
    {
      "cell_type": "markdown",
      "metadata": {
        "id": "f0dbXY6_6bXQ",
        "colab_type": "text"
      },
      "source": [
        "### AGGREGATION PER DEVICE"
      ]
    },
    {
      "cell_type": "code",
      "metadata": {
        "colab_type": "code",
        "id": "YL_pbnZhU994",
        "colab": {},
        "outputId": "619caab2-8230-4397-b0c6-0e90434322ed"
      },
      "source": [
        "devices = df['device_make'].value_counts().head(10)\n",
        "devices"
      ],
      "execution_count": null,
      "outputs": [
        {
          "output_type": "execute_result",
          "data": {
            "text/plain": [
              "Generic Smartphone    4743\n",
              "iPhone                 433\n",
              "Samsung SM-G960F       203\n",
              "Samsung SM-G973F       154\n",
              "Samsung SM-G950F       148\n",
              "Samsung SM-G930F       100\n",
              "Samsung SM-G975F        97\n",
              "Samsung SM-A202F        88\n",
              "Samsung SM-A405FN       87\n",
              "Samsung SM-J330FN       69\n",
              "Name: device_make, dtype: int64"
            ]
          },
          "metadata": {
            "tags": []
          },
          "execution_count": 4
        }
      ]
    },
    {
      "cell_type": "markdown",
      "metadata": {
        "id": "_NPHU2Ew6bXb",
        "colab_type": "text"
      },
      "source": [
        "#### DISTRIBUTION OF THE 10 MOST USED DEVICES"
      ]
    },
    {
      "cell_type": "code",
      "metadata": {
        "id": "VPEHBav46bXd",
        "colab_type": "code",
        "colab": {},
        "outputId": "515720cd-1fbc-4f8b-f6c8-8f7e13171f90"
      },
      "source": [
        "device_count = df[\"device_make\"].value_counts()[:10]\n",
        "device_count.plot(kind = \"bar\", color='red', rot=50)\n",
        "plt.title(\"Bar plot of the device make\")\n",
        "plt.ylabel('Total Counts')\n",
        "plt.xlabel('Devices')\n",
        "plt.show()"
      ],
      "execution_count": null,
      "outputs": [
        {
          "output_type": "display_data",
          "data": {
            "image/png": "[encoded data removed]",
            "text/plain": [
              "<Figure size 432x288 with 1 Axes>"
            ]
          },
          "metadata": {
            "tags": [],
            "needs_background": "light"
          }
        }
      ]
    },
    {
      "cell_type": "markdown",
      "metadata": {
        "id": "WyVkH0ck6bXl",
        "colab_type": "text"
      },
      "source": [
        "From the bar plot it is evident that Generic Smartphones is mostly used"
      ]
    },
    {
      "cell_type": "markdown",
      "metadata": {
        "id": "ZTVotGmm6bXn",
        "colab_type": "text"
      },
      "source": [
        "### AGGREGATION PER PLATFORM OS "
      ]
    },
    {
      "cell_type": "code",
      "metadata": {
        "colab_type": "code",
        "id": "QAjJfzkIU997",
        "colab": {},
        "outputId": "dc6f7d52-5649-4e5c-8560-2d94e4b19718"
      },
      "source": [
        "os = df['platform_os'].value_counts()\n",
        "os"
      ],
      "execution_count": null,
      "outputs": [
        {
          "output_type": "execute_result",
          "data": {
            "text/plain": [
              "6    7648\n",
              "5     428\n",
              "7       1\n",
              "Name: platform_os, dtype: int64"
            ]
          },
          "metadata": {
            "tags": []
          },
          "execution_count": 50
        }
      ]
    },
    {
      "cell_type": "markdown",
      "metadata": {
        "id": "TAk6bqHD6bX0",
        "colab_type": "text"
      },
      "source": [
        "Based on the aggregated counts, majority of the users are on platform 6 with a total count of 7648"
      ]
    },
    {
      "cell_type": "markdown",
      "metadata": {
        "id": "Zo8LQuBw6bX2",
        "colab_type": "text"
      },
      "source": [
        "### AGGREGATION PER BROWSER "
      ]
    },
    {
      "cell_type": "code",
      "metadata": {
        "colab_type": "code",
        "id": "jflHxjvZU99-",
        "colab": {},
        "outputId": "922b17d5-9fd4-4ed3-d9d8-da80ddd22fb6"
      },
      "source": [
        "Browser = df['browser'].value_counts().head(5)\n",
        "Browser"
      ],
      "execution_count": null,
      "outputs": [
        {
          "output_type": "execute_result",
          "data": {
            "text/plain": [
              "Chrome Mobile            4554\n",
              "Chrome Mobile WebView    1489\n",
              "Samsung Internet          824\n",
              "Facebook                  764\n",
              "Mobile Safari             337\n",
              "Name: browser, dtype: int64"
            ]
          },
          "metadata": {
            "tags": []
          },
          "execution_count": 54
        }
      ]
    },
    {
      "cell_type": "markdown",
      "metadata": {
        "id": "RRrt27yS6bYF",
        "colab_type": "text"
      },
      "source": [
        "#### DISTRIBUTION OF THE BROWSERS"
      ]
    },
    {
      "cell_type": "code",
      "metadata": {
        "id": "0rUh7SSE6bYI",
        "colab_type": "code",
        "colab": {},
        "outputId": "1020ea17-93c8-4e3f-aee8-f198e707e199"
      },
      "source": [
        "browsers = df[\"browser\"].value_counts()[:5]\n",
        "browsers.plot(kind = \"bar\", rot=50)\n",
        "plt.title(\"Bar plot of the browsers\")\n",
        "plt.ylabel('Total Counts')\n",
        "plt.xlabel('Browser Type')\n",
        "plt.show()"
      ],
      "execution_count": null,
      "outputs": [
        {
          "output_type": "display_data",
          "data": {
            "image/png": "[encoded data removed]",
            "text/plain": [
              "<Figure size 432x288 with 1 Axes>"
            ]
          },
          "metadata": {
            "tags": [],
            "needs_background": "light"
          }
        }
      ]
    },
    {
      "cell_type": "markdown",
      "metadata": {
        "id": "FBbGBxbl6bYW",
        "colab_type": "text"
      },
      "source": [
        "### AGGREGATION AND VALUE COUNTS OF THE VARIANT GROUPS"
      ]
    },
    {
      "cell_type": "code",
      "metadata": {
        "colab_type": "code",
        "id": "rGQ0YQA3U9-C",
        "colab": {},
        "outputId": "47ba4e49-a63b-4c2e-c549-37c138848f9d"
      },
      "source": [
        "df.groupby('experiment').agg({'yes':np.sum, 'no':np.sum})"
      ],
      "execution_count": null,
      "outputs": [
        {
          "output_type": "execute_result",
          "data": {
            "text/html": [
              "<div>\n",
              "<style scoped>\n",
              "    .dataframe tbody tr th:only-of-type {\n",
              "        vertical-align: middle;\n",
              "    }\n",
              "\n",
              "    .dataframe tbody tr th {\n",
              "        vertical-align: top;\n",
              "    }\n",
              "\n",
              "    .dataframe thead th {\n",
              "        text-align: right;\n",
              "    }\n",
              "</style>\n",
              "<table border=\"1\" class=\"dataframe\">\n",
              "  <thead>\n",
              "    <tr style=\"text-align: right;\">\n",
              "      <th></th>\n",
              "      <th>yes</th>\n",
              "      <th>no</th>\n",
              "    </tr>\n",
              "    <tr>\n",
              "      <th>experiment</th>\n",
              "      <th></th>\n",
              "      <th></th>\n",
              "    </tr>\n",
              "  </thead>\n",
              "  <tbody>\n",
              "    <tr>\n",
              "      <th>control</th>\n",
              "      <td>264</td>\n",
              "      <td>322</td>\n",
              "    </tr>\n",
              "    <tr>\n",
              "      <th>exposed</th>\n",
              "      <td>308</td>\n",
              "      <td>349</td>\n",
              "    </tr>\n",
              "  </tbody>\n",
              "</table>\n",
              "</div>"
            ],
            "text/plain": [
              "            yes   no\n",
              "experiment          \n",
              "control     264  322\n",
              "exposed     308  349"
            ]
          },
          "metadata": {
            "tags": []
          },
          "execution_count": 26
        }
      ]
    },
    {
      "cell_type": "code",
      "metadata": {
        "colab_type": "code",
        "id": "3VSL_q2mU9-G",
        "colab": {},
        "outputId": "5b966271-221f-470d-f212-0fcd976c9f4c"
      },
      "source": [
        "df['experiment'].value_counts()"
      ],
      "execution_count": null,
      "outputs": [
        {
          "output_type": "execute_result",
          "data": {
            "text/plain": [
              "control    4071\n",
              "exposed    4006\n",
              "Name: experiment, dtype: int64"
            ]
          },
          "metadata": {
            "tags": []
          },
          "execution_count": 88
        }
      ]
    },
    {
      "cell_type": "code",
      "metadata": {
        "colab_type": "code",
        "id": "vMPM1E2LU9-J",
        "colab": {},
        "outputId": "f6138004-ec63-4e6f-e118-316e4f46fda3"
      },
      "source": [
        "categ = df.groupby('experiment').agg({'yes':np.sum, 'no':np.sum})\n",
        "\n",
        "categ.plot(kind= 'bar', rot=45)\n",
        "plt.title('A categorical bar graph of Control and  exposed group')\n",
        "\n",
        "plt.ylabel('counts')\n",
        "plt.show()"
      ],
      "execution_count": null,
      "outputs": [
        {
          "output_type": "display_data",
          "data": {
            "image/png": "[encoded data removed]",
            "text/plain": [
              "<Figure size 432x288 with 1 Axes>"
            ]
          },
          "metadata": {
            "tags": [],
            "needs_background": "light"
          }
        }
      ]
    },
    {
      "cell_type": "markdown",
      "metadata": {
        "id": "DLdR-ep56bZA",
        "colab_type": "text"
      },
      "source": [
        "In both control and exposed group, there is evidence that more users knew the brand."
      ]
    },
    {
      "cell_type": "markdown",
      "metadata": {
        "id": "0kKJYdox6bZD",
        "colab_type": "text"
      },
      "source": [
        "## CLASSICAL A/B TESTING"
      ]
    },
    {
      "cell_type": "markdown",
      "metadata": {
        "id": "9nUEmLHI6bZF",
        "colab_type": "text"
      },
      "source": [
        "##### Determines the rates in different variant groups "
      ]
    },
    {
      "cell_type": "code",
      "metadata": {
        "id": "KPmoDqfB6bZI",
        "colab_type": "code",
        "colab": {}
      },
      "source": [
        "control = df[df[\"experiment\"] == \"control\"]\n",
        "exposed = df[df[\"experiment\"] == \"exposed\"]"
      ],
      "execution_count": null,
      "outputs": []
    },
    {
      "cell_type": "code",
      "metadata": {
        "id": "8vdxzBqZ6bZX",
        "colab_type": "code",
        "colab": {},
        "outputId": "85a1a318-f3cf-4e36-c2e0-ede23ced14d8"
      },
      "source": [
        "control_count, exposed_count = control['yes'].count(), exposed['yes'].count()\n",
        "clicks_control, clicks_exposed = control['yes'].sum(), exposed['yes'].sum() \n",
        "control_click_rate, exposed_click_rate = clicks_control / control_count, clicks_exposed / exposed_count\n",
        "print(\"Click rate in control group: {:.3f}\".format(control_click_rate))\n",
        "print(\"Click rate in exposed group: {:.3f}\".format(control_click_rate))"
      ],
      "execution_count": null,
      "outputs": [
        {
          "output_type": "stream",
          "text": [
            "Click rate in control group: 0.065\n",
            "Click rate in exposed group: 0.065\n"
          ],
          "name": "stdout"
        }
      ]
    },
    {
      "cell_type": "code",
      "metadata": {
        "id": "FE80WCYZ6bZi",
        "colab_type": "code",
        "colab": {}
      },
      "source": [
        "std_ctrl = np.sqrt(control_click_rate * (1 - control_click_rate) / control_count)\n",
        "std_exp = np.sqrt(exposed_click_rate * (1 - exposed_click_rate) / exposed_count)\n",
        "\n",
        "click_rate = np.linspace(0, 0.2, 200)\n",
        "control_clicks_prob = norm(control_click_rate, std_ctrl).pdf(click_rate)\n",
        "exposed_clicks_prob = norm(exposed_click_rate, std_exp).pdf(click_rate)"
      ],
      "execution_count": null,
      "outputs": []
    },
    {
      "cell_type": "markdown",
      "metadata": {
        "id": "Zsxs-0e46bZt",
        "colab_type": "text"
      },
      "source": [
        "Creating probability distributions plots"
      ]
    },
    {
      "cell_type": "code",
      "metadata": {
        "id": "nZao_OWT6bZw",
        "colab_type": "code",
        "colab": {},
        "outputId": "06090b41-08df-477c-ce52-b2ad47bdcb83"
      },
      "source": [
        "plt.plot(click_rate, control_clicks_prob, label=\"Control group clicks\")\n",
        "plt.plot(click_rate, exposed_clicks_prob, label=\"Exposed group clicks\")\n",
        "plt.legend(frameon=True)\n",
        "plt.xlabel(\"Conversion rate\"); plt.ylabel(\"Probability\");\n",
        "\n",
        "plt.show()"
      ],
      "execution_count": null,
      "outputs": [
        {
          "output_type": "display_data",
          "data": {
            "image/png": "[encoded data removed]",
            "text/plain": [
              "<Figure size 432x288 with 1 Axes>"
            ]
          },
          "metadata": {
            "tags": [],
            "needs_background": "light"
          }
        }
      ]
    },
    {
      "cell_type": "code",
      "metadata": {
        "id": "g5ZV6yTC6bZ6",
        "colab_type": "code",
        "colab": {},
        "outputId": "ac8fd79a-fc3f-4cc2-a24d-9b0ed0f96467"
      },
      "source": [
        "zscore = (exposed_click_rate - control_click_rate) / np.sqrt(std_ctrl**2 + std_exp**2)\n",
        "p = norm(exposed_click_rate - control_click_rate, np.sqrt(std_ctrl**2 + std_exp**2))\n",
        "\n",
        "\n",
        "\n",
        "x = np.linspace(-0.05, 0.15, 1000)\n",
        "y = p.pdf(x)\n",
        "area_under_curve = p.sf(0)\n",
        "plt.figure(figsize=(10,6))\n",
        "plt.plot(x, y, label=\"PDF\")\n",
        "plt.fill_between(x, 0, y, where=x>0, label=\"Prob(exposed_rate > control_rate)\", alpha=0.3)\n",
        "plt.annotate(f\"Area={area_under_curve:0.3f}\", (0.02, 5))\n",
        "plt.legend()\n",
        "plt.xlabel(\"Difference in conversion rate\"); plt.ylabel(\"Probability\")\n",
        "           \n",
        "\n",
        "print(f\"zscore is {zscore:0.3f}, with p-value {norm().sf(zscore):0.3f}\")"
      ],
      "execution_count": null,
      "outputs": [
        {
          "output_type": "stream",
          "text": [
            "zscore is 2.108, with p-value 0.018\n"
          ],
          "name": "stdout"
        },
        {
          "output_type": "display_data",
          "data": {
            "image/png": "[encoded data removed]",
            "text/plain": [
              "<Figure size 720x432 with 1 Axes>"
            ]
          },
          "metadata": {
            "tags": [],
            "needs_background": "light"
          }
        }
      ]
    },
    {
      "cell_type": "markdown",
      "metadata": {
        "colab_type": "text",
        "id": "oZsm3teDMq96"
      },
      "source": [
        "## SEQUENTIAL AB TESTING"
      ]
    },
    {
      "cell_type": "code",
      "metadata": {
        "code_folding": [
          0
        ],
        "colab_type": "code",
        "id": "_eCSV5c-U9-N",
        "colab": {}
      },
      "source": [
        "\n",
        "def ConditionalSPRT(self,x,y,t1,alpha=0.05,beta=0.10,stop=None):\n",
        "        if t1<=1:\n",
        "            printLog('warning',\"Odd ratio should exceed 1.\")\n",
        "        if (alpha >0.5) | (beta >0.5):\n",
        "            printLog('warning',\"Unrealistic values of alpha or beta were passed.\"\n",
        "                     +\" You should have good reason to use large alpha & beta values\")\n",
        "        if stop!=None:\n",
        "            stop=math.floor(n0)\n",
        "\n",
        "        def comb(n, k):\n",
        "            return factorial(n) // factorial(k) // factorial(n - k)\n",
        "        \n",
        "        def lchoose(b, j):\n",
        "            a=[]\n",
        "            if (type(j) is list) | (isinstance(j,np.ndarray)==True):\n",
        "                if len(j)<2:\n",
        "                    j=j[0]\n",
        "            if (type(j) is list) | (isinstance(j,np.ndarray)==True):\n",
        "                for k in j:\n",
        "                    n=b\n",
        "                    if (0 <= k) & (k<= n):\n",
        "                        a.append(math.log(comb(n,k)))\n",
        "                    else:\n",
        "                        a.append(0)\n",
        "            else:\n",
        "                n=b\n",
        "                k=j\n",
        "                if (0 <= k) & (k<= n):\n",
        "                    a.append(math.log(comb(n,k)))\n",
        "                else:\n",
        "                    a.append(0)\n",
        "\n",
        "            return np.array(a)\n",
        "\n",
        "        def g(x,r,n,t1,t0=1):\n",
        "            return -math.log(h(x,r,n,t1))+math.log(h(x,r,n,t0))\n",
        "\n",
        "        def h(x,r,n,t=1):\n",
        "            return f(r,n,t,offset=ftermlog(x,r,n,t))\n",
        "\n",
        "        def f(r,n,t,offset=0):\n",
        "            upper=max(0,r-n)\n",
        "            lower=min(n,r)\n",
        "            rng=list(range(upper,lower+1))\n",
        "            return np.sum(fterm(rng,r,n,t,offset))\n",
        "\n",
        "        def fterm(j,r,n,t,offset=0):\n",
        "            ftlog=ftermlog(j,r,n,t,offset)\n",
        "            return np.array([math.exp(ex) for ex in ftlog])\n",
        "\n",
        "        def ftermlog(j,r,n,t,offset=0):\n",
        "            xx=r-j\n",
        "            lch=lchoose(n,j)\n",
        "            lchdiff=lchoose(n,xx)\n",
        "            lg=np.array(j)*math.log(t)\n",
        "            lgsum=lch+lchdiff\n",
        "            lgsum2=lgsum+lg\n",
        "            lgdiff=lgsum2-offset\n",
        "\n",
        "            return lgdiff\n",
        "\n",
        "        def logf(r,n,t,offset=0):\n",
        "\n",
        "            z=f(r,n,t,offset)\n",
        "            if z>0:\n",
        "                return math.log(z)\n",
        "            else:\n",
        "                return np.nan\n",
        "\n",
        "        def clowerUpper(r,n,t1c,t0=1,alpha=0.05,beta=0.10):\n",
        "            offset=ftermlog(math.ceil(r/2),r,n,t1c)\n",
        "            z=logf(r,n,t1c,logf(r,n,t0,offset)+offset)\n",
        "            a=-math.log(alpha/(1-beta))\n",
        "            b=math.log(beta/(1-alpha))\n",
        "            lower=b\n",
        "            upper=1+a\n",
        "            return (np.array([lower,upper])+z)/math.log(t1c/t0)\n",
        "            \n",
        "        l=math.log(beta/(1-alpha))\n",
        "        u=-math.log(alpha/(1-beta))\n",
        "        sample_size=min(len(x),len(y))\n",
        "        n=np.array(range(1,sample_size+1))\n",
        "\n",
        "        if stop!=None:\n",
        "            n=np.array([z for z in n if z<=stop])\n",
        "        x1=np.cumsum(x[n-1])\n",
        "        r=x1+np.cumsum(y[n-1])\n",
        "        stats=np.array(list(map(g,x1, r, n, [t1]*len(x1)))) #recurcively calls g\n",
        "\n",
        "        clu=list(map(clowerUpper,r,n,[t1]*len(r),[1]*len(r),[alpha]*len(r), [beta]*len(r)))\n",
        "        limits=[]\n",
        "        for v in clu:\n",
        "            inArray=[]\n",
        "            for vin in v:\n",
        "                inArray.append(math.floor(vin))\n",
        "            limits.append(np.array(inArray))\n",
        "        limits=np.array(limits)\n",
        "\n",
        "        k=np.where((stats>=u) | (stats<=l))\n",
        "        cvalues=stats[k]\n",
        "        if cvalues.shape[0]<1:\n",
        "            k= np.nan\n",
        "            outcome='Unable to conclude.Needs more sample.'\n",
        "        else:\n",
        "            k=np.min(k)\n",
        "            if stats[k]>=u:\n",
        "                outcome=f'Exposed group produced a statistically significant increase.'\n",
        "            else:\n",
        "                outcome='Their is no statistically significant difference between two test groups'\n",
        "        if (stop!=None) & (k==np.nan):\n",
        "            c1=clowerUpper(r,stop,t1,alpha,beta)\n",
        "            c1=math.floor(np.mean(c1)-0.5)\n",
        "            if x1[n0]<=c1:\n",
        "                truncate_decision='h0'\n",
        "                outcome='Maximum Limit Decision. The aproximate decision point shows their is no statistically significant difference between two test groups'\n",
        "            else:\n",
        "                truncate_decision='h1'\n",
        "                outcome=f'Maximum Limit Decision. The aproximate decision point shows exposed group produced a statistically significant increase.'\n",
        "            truncated=stop\n",
        "        else:\n",
        "            truncate_decision='Non'\n",
        "            truncated=np.nan\n",
        "        return (outcome,n, k,l,u,truncated,truncate_decision,x1,r,stats,limits)"
      ],
      "execution_count": null,
      "outputs": []
    },
    {
      "cell_type": "markdown",
      "metadata": {
        "colab_type": "text",
        "id": "3N4QLuiFU9-Q"
      },
      "source": [
        "# TASK 2: MACHINE LEARNING"
      ]
    },
    {
      "cell_type": "markdown",
      "metadata": {
        "colab_type": "text",
        "id": "dNIakuezU9-R"
      },
      "source": [
        "#### DECISION TREE"
      ]
    },
    {
      "cell_type": "code",
      "metadata": {
        "colab_type": "code",
        "id": "4aDJs1xHlhvn",
        "colab": {}
      },
      "source": [
        "from sklearn.tree import DecisionTreeClassifier\n",
        "from sklearn import preprocessing\n",
        "from statistics import *\n",
        "from sklearn.model_selection import KFold\n",
        "from sklearn.model_selection import cross_val_score\n",
        "from sklearn.metrics import accuracy_score\n",
        "from sklearn.model_selection import train_test_split"
      ],
      "execution_count": 1,
      "outputs": []
    },
    {
      "cell_type": "code",
      "metadata": {
        "colab_type": "code",
        "id": "ARjs7cFoWVOj",
        "colab": {
          "base_uri": "https://localhost:8080/",
          "height": 122
        },
        "outputId": "9f4cf20b-993c-4193-f4ca-f3a8e3ac59b8"
      },
      "source": [
        "from google.colab import drive\n",
        "drive.mount('/content/drive')"
      ],
      "execution_count": 3,
      "outputs": [
        {
          "output_type": "stream",
          "text": [
            "Go to this URL in a browser: https://accounts.google.com/o/oauth2/auth?client_id=947318989803-6bn6qk8qdgf4n4g3pfee6491hc0brc4i.apps.googleusercontent.com&redirect_uri=urn%3aietf%3awg%3aoauth%3a2.0%3aoob&scope=email%20https%3a%2f%2fwww.googleapis.com%2fauth%2fdocs.test%20https%3a%2f%2fwww.googleapis.com%2fauth%2fdrive%20https%3a%2f%2fwww.googleapis.com%2fauth%2fdrive.photos.readonly%20https%3a%2f%2fwww.googleapis.com%2fauth%2fpeopleapi.readonly&response_type=code\n",
            "\n",
            "Enter your authorization code:\n",
            "··········\n",
            "Mounted at /content/drive\n"
          ],
          "name": "stdout"
        }
      ]
    },
    {
      "cell_type": "code",
      "metadata": {
        "colab_type": "code",
        "id": "j5-OmkCVW2jY",
        "colab": {}
      },
      "source": [
        "path = \"/content/drive/My Drive/10Acad/AdSmartABdata.csv\"\n",
        "df = pd.read_csv(path)"
      ],
      "execution_count": 4,
      "outputs": []
    },
    {
      "cell_type": "code",
      "metadata": {
        "colab_type": "code",
        "id": "pXlsisJAXIOS",
        "colab": {
          "base_uri": "https://localhost:8080/",
          "height": 204
        },
        "outputId": "2175608d-09ae-4955-bd89-3b9069269495"
      },
      "source": [
        "conditions = [\n",
        "              (df['yes'] == 1) & (df['no'] == 0),\n",
        "              (df['yes'] == 0) & (df['no'] == 1),\n",
        "              (df['yes'] == 0) & (df['no'] == 0)\n",
        "]\n",
        "\n",
        "values = [1,0,2]\n",
        "df['target_values'] = np.select(conditions, values)\n",
        "df.tail()"
      ],
      "execution_count": 5,
      "outputs": [
        {
          "output_type": "execute_result",
          "data": {
            "text/html": [
              "<div>\n",
              "<style scoped>\n",
              "    .dataframe tbody tr th:only-of-type {\n",
              "        vertical-align: middle;\n",
              "    }\n",
              "\n",
              "    .dataframe tbody tr th {\n",
              "        vertical-align: top;\n",
              "    }\n",
              "\n",
              "    .dataframe thead th {\n",
              "        text-align: right;\n",
              "    }\n",
              "</style>\n",
              "<table border=\"1\" class=\"dataframe\">\n",
              "  <thead>\n",
              "    <tr style=\"text-align: right;\">\n",
              "      <th></th>\n",
              "      <th>auction_id</th>\n",
              "      <th>experiment</th>\n",
              "      <th>date</th>\n",
              "      <th>hour</th>\n",
              "      <th>device_make</th>\n",
              "      <th>platform_os</th>\n",
              "      <th>browser</th>\n",
              "      <th>yes</th>\n",
              "      <th>no</th>\n",
              "      <th>target_values</th>\n",
              "    </tr>\n",
              "  </thead>\n",
              "  <tbody>\n",
              "    <tr>\n",
              "      <th>8072</th>\n",
              "      <td>ffea24ec-cec1-43fb-b1d1-8f93828c2be2</td>\n",
              "      <td>exposed</td>\n",
              "      <td>2020-07-05</td>\n",
              "      <td>7</td>\n",
              "      <td>Generic Smartphone</td>\n",
              "      <td>6</td>\n",
              "      <td>Chrome Mobile</td>\n",
              "      <td>0</td>\n",
              "      <td>0</td>\n",
              "      <td>2</td>\n",
              "    </tr>\n",
              "    <tr>\n",
              "      <th>8073</th>\n",
              "      <td>ffea3210-2c3e-426f-a77d-0aa72e73b20f</td>\n",
              "      <td>control</td>\n",
              "      <td>2020-07-03</td>\n",
              "      <td>15</td>\n",
              "      <td>Generic Smartphone</td>\n",
              "      <td>6</td>\n",
              "      <td>Chrome Mobile</td>\n",
              "      <td>0</td>\n",
              "      <td>0</td>\n",
              "      <td>2</td>\n",
              "    </tr>\n",
              "    <tr>\n",
              "      <th>8074</th>\n",
              "      <td>ffeaa0f1-1d72-4ba9-afb4-314b3b00a7c7</td>\n",
              "      <td>control</td>\n",
              "      <td>2020-07-04</td>\n",
              "      <td>9</td>\n",
              "      <td>Generic Smartphone</td>\n",
              "      <td>6</td>\n",
              "      <td>Chrome Mobile</td>\n",
              "      <td>0</td>\n",
              "      <td>0</td>\n",
              "      <td>2</td>\n",
              "    </tr>\n",
              "    <tr>\n",
              "      <th>8075</th>\n",
              "      <td>ffeeed62-3f7c-4a6e-8ba7-95d303d40969</td>\n",
              "      <td>exposed</td>\n",
              "      <td>2020-07-05</td>\n",
              "      <td>15</td>\n",
              "      <td>Samsung SM-A515F</td>\n",
              "      <td>6</td>\n",
              "      <td>Samsung Internet</td>\n",
              "      <td>0</td>\n",
              "      <td>0</td>\n",
              "      <td>2</td>\n",
              "    </tr>\n",
              "    <tr>\n",
              "      <th>8076</th>\n",
              "      <td>fffbb9ff-568a-41a5-a0c3-6866592f80d8</td>\n",
              "      <td>control</td>\n",
              "      <td>2020-07-10</td>\n",
              "      <td>14</td>\n",
              "      <td>Samsung SM-G960F</td>\n",
              "      <td>6</td>\n",
              "      <td>Facebook</td>\n",
              "      <td>0</td>\n",
              "      <td>0</td>\n",
              "      <td>2</td>\n",
              "    </tr>\n",
              "  </tbody>\n",
              "</table>\n",
              "</div>"
            ],
            "text/plain": [
              "                                auction_id experiment  ... no  target_values\n",
              "8072  ffea24ec-cec1-43fb-b1d1-8f93828c2be2    exposed  ...  0              2\n",
              "8073  ffea3210-2c3e-426f-a77d-0aa72e73b20f    control  ...  0              2\n",
              "8074  ffeaa0f1-1d72-4ba9-afb4-314b3b00a7c7    control  ...  0              2\n",
              "8075  ffeeed62-3f7c-4a6e-8ba7-95d303d40969    exposed  ...  0              2\n",
              "8076  fffbb9ff-568a-41a5-a0c3-6866592f80d8    control  ...  0              2\n",
              "\n",
              "[5 rows x 10 columns]"
            ]
          },
          "metadata": {
            "tags": []
          },
          "execution_count": 5
        }
      ]
    },
    {
      "cell_type": "code",
      "metadata": {
        "colab_type": "code",
        "id": "gCRWJ3ZAXIRd",
        "colab": {}
      },
      "source": [
        "# Initialize label encoder\n",
        "label_encoder = preprocessing.LabelEncoder()\n",
        "\n",
        "# Convert variables to numeric\n",
        "encoded_experiment = label_encoder.fit_transform(df[\"experiment\"])\n",
        "encoded_device_make = label_encoder.fit_transform(df[\"device_make\"])\n",
        "encoded_browser = label_encoder.fit_transform(df[\"browser\"])\n",
        "encoded_date = label_encoder.fit_transform(df[\"date\"])"
      ],
      "execution_count": 15,
      "outputs": []
    },
    {
      "cell_type": "code",
      "metadata": {
        "colab_type": "code",
        "id": "21has_U9nPDN",
        "colab": {}
      },
      "source": [
        "X = pd.DataFrame([encoded_experiment,\n",
        "                  encoded_device_make,\n",
        "                  encoded_browser,\n",
        "                  encoded_date,\n",
        "                  df['hour'],\n",
        "                  df['platform_os']]).T\n",
        "y = df['target_values']"
      ],
      "execution_count": 16,
      "outputs": []
    },
    {
      "cell_type": "code",
      "metadata": {
        "colab_type": "code",
        "id": "4J3r1q1G8sSr",
        "colab": {}
      },
      "source": [
        "X_train, X_test, y_train, y_test = train_test_split(X, y, test_size=0.2, random_state=0)"
      ],
      "execution_count": 17,
      "outputs": []
    },
    {
      "cell_type": "code",
      "metadata": {
        "colab_type": "code",
        "id": "ItaRTwG24at7",
        "colab": {
          "base_uri": "https://localhost:8080/",
          "height": 119
        },
        "outputId": "3f1cc4c5-c9c7-4281-a138-c1d2d3f4d4d4"
      },
      "source": [
        "model = DecisionTreeClassifier()\n",
        "model.fit(X_train, y_train)"
      ],
      "execution_count": 18,
      "outputs": [
        {
          "output_type": "execute_result",
          "data": {
            "text/plain": [
              "DecisionTreeClassifier(ccp_alpha=0.0, class_weight=None, criterion='gini',\n",
              "                       max_depth=None, max_features=None, max_leaf_nodes=None,\n",
              "                       min_impurity_decrease=0.0, min_impurity_split=None,\n",
              "                       min_samples_leaf=1, min_samples_split=2,\n",
              "                       min_weight_fraction_leaf=0.0, presort='deprecated',\n",
              "                       random_state=None, splitter='best')"
            ]
          },
          "metadata": {
            "tags": []
          },
          "execution_count": 18
        }
      ]
    },
    {
      "cell_type": "code",
      "metadata": {
        "colab_type": "code",
        "id": "tVPLtlXW6hZt",
        "colab": {}
      },
      "source": [
        "y_pred = model.predict(X_test)"
      ],
      "execution_count": 19,
      "outputs": []
    },
    {
      "cell_type": "code",
      "metadata": {
        "colab_type": "code",
        "id": "CwpI5-N2636-",
        "colab": {
          "base_uri": "https://localhost:8080/",
          "height": 419
        },
        "outputId": "d4796240-3f3f-497e-fccf-6eb7dbc2b943"
      },
      "source": [
        "preds=pd.DataFrame({'Actual':y_test, 'Predicted':y_pred})\n",
        "preds"
      ],
      "execution_count": null,
      "outputs": [
        {
          "output_type": "execute_result",
          "data": {
            "text/html": [
              "<div>\n",
              "<style scoped>\n",
              "    .dataframe tbody tr th:only-of-type {\n",
              "        vertical-align: middle;\n",
              "    }\n",
              "\n",
              "    .dataframe tbody tr th {\n",
              "        vertical-align: top;\n",
              "    }\n",
              "\n",
              "    .dataframe thead th {\n",
              "        text-align: right;\n",
              "    }\n",
              "</style>\n",
              "<table border=\"1\" class=\"dataframe\">\n",
              "  <thead>\n",
              "    <tr style=\"text-align: right;\">\n",
              "      <th></th>\n",
              "      <th>Actual</th>\n",
              "      <th>Predicted</th>\n",
              "    </tr>\n",
              "  </thead>\n",
              "  <tbody>\n",
              "    <tr>\n",
              "      <th>5988</th>\n",
              "      <td>1</td>\n",
              "      <td>2</td>\n",
              "    </tr>\n",
              "    <tr>\n",
              "      <th>7490</th>\n",
              "      <td>2</td>\n",
              "      <td>2</td>\n",
              "    </tr>\n",
              "    <tr>\n",
              "      <th>1811</th>\n",
              "      <td>2</td>\n",
              "      <td>2</td>\n",
              "    </tr>\n",
              "    <tr>\n",
              "      <th>3121</th>\n",
              "      <td>2</td>\n",
              "      <td>2</td>\n",
              "    </tr>\n",
              "    <tr>\n",
              "      <th>4459</th>\n",
              "      <td>2</td>\n",
              "      <td>2</td>\n",
              "    </tr>\n",
              "    <tr>\n",
              "      <th>...</th>\n",
              "      <td>...</td>\n",
              "      <td>...</td>\n",
              "    </tr>\n",
              "    <tr>\n",
              "      <th>5492</th>\n",
              "      <td>1</td>\n",
              "      <td>2</td>\n",
              "    </tr>\n",
              "    <tr>\n",
              "      <th>993</th>\n",
              "      <td>2</td>\n",
              "      <td>2</td>\n",
              "    </tr>\n",
              "    <tr>\n",
              "      <th>1570</th>\n",
              "      <td>2</td>\n",
              "      <td>2</td>\n",
              "    </tr>\n",
              "    <tr>\n",
              "      <th>286</th>\n",
              "      <td>2</td>\n",
              "      <td>2</td>\n",
              "    </tr>\n",
              "    <tr>\n",
              "      <th>1136</th>\n",
              "      <td>2</td>\n",
              "      <td>2</td>\n",
              "    </tr>\n",
              "  </tbody>\n",
              "</table>\n",
              "<p>1616 rows × 2 columns</p>\n",
              "</div>"
            ],
            "text/plain": [
              "      Actual  Predicted\n",
              "5988       1          2\n",
              "7490       2          2\n",
              "1811       2          2\n",
              "3121       2          2\n",
              "4459       2          2\n",
              "...      ...        ...\n",
              "5492       1          2\n",
              "993        2          2\n",
              "1570       2          2\n",
              "286        2          2\n",
              "1136       2          2\n",
              "\n",
              "[1616 rows x 2 columns]"
            ]
          },
          "metadata": {
            "tags": []
          },
          "execution_count": 24
        }
      ]
    },
    {
      "cell_type": "markdown",
      "metadata": {
        "id": "-ZGSdP1R5htJ",
        "colab_type": "text"
      },
      "source": [
        "Comparing predictions against the test values"
      ]
    },
    {
      "cell_type": "code",
      "metadata": {
        "id": "sXqpFevu1xBb",
        "colab_type": "code",
        "colab": {}
      },
      "source": [
        "def plot_preds(y_test, y_preds, model_name):\n",
        "    N = len(y_test)\n",
        "    plt.figure(figsize=(10,5))\n",
        "    original = plt.scatter(np.arange(1, N+1), y_test, c='red')\n",
        "    prediction = plt.scatter(np.arange(1, N+1), y_preds, c='purple')\n",
        "    plt.xticks(np.arange(1, N+1))\n",
        "    plt.xlabel('Oberservation')\n",
        "    plt.ylabel('Conversion')\n",
        "    title = 'Original values vs. Predicted values ({})'.format(model_name)\n",
        "    plt.title(title)\n",
        "    plt.legend((original, prediction), ('Original', 'Prediction'))\n",
        "    plt.show()"
      ],
      "execution_count": 21,
      "outputs": []
    },
    {
      "cell_type": "code",
      "metadata": {
        "id": "PFzjQTlx4hfI",
        "colab_type": "code",
        "colab": {
          "base_uri": "https://localhost:8080/",
          "height": 350
        },
        "outputId": "730c1574-598e-4b36-d552-6099ec25d188"
      },
      "source": [
        "plot_preds(y_test, y_pred, \"Decision Tree\")"
      ],
      "execution_count": 22,
      "outputs": [
        {
          "output_type": "display_data",
          "data": {
            "image/png": "[encoded data removed]",
            "text/plain": [
              "<Figure size 720x360 with 1 Axes>"
            ]
          },
          "metadata": {
            "tags": [],
            "needs_background": "light"
          }
        }
      ]
    },
    {
      "cell_type": "code",
      "metadata": {
        "colab_type": "code",
        "id": "D_dFNCJK8_ZD",
        "colab": {
          "base_uri": "https://localhost:8080/",
          "height": 51
        },
        "outputId": "77f1684e-95e2-4a33-8c20-95c80d086daf"
      },
      "source": [
        "kf = KFold(n_splits=5, shuffle=True, random_state=1)\n",
        "model = DecisionTreeClassifier()\n",
        "\n",
        "scores = cross_val_score(model, X, y, scoring='accuracy', cv=kf)\n",
        "print(scores)\n",
        "print('KFold CrossValScore Using Decision Tree: ', scores.mean())"
      ],
      "execution_count": null,
      "outputs": [
        {
          "output_type": "stream",
          "text": [
            "[0.77970297 0.76608911 0.78885449 0.7752322  0.78266254]\n",
            "KFold CrossValScore Using Decision Tree:  0.7785082610428226\n"
          ],
          "name": "stdout"
        }
      ]
    },
    {
      "cell_type": "markdown",
      "metadata": {
        "id": "twFY1UVCiBkA",
        "colab_type": "text"
      },
      "source": [
        "Decision Tree Classifier feature Importance"
      ]
    },
    {
      "cell_type": "code",
      "metadata": {
        "id": "IM9PmvLZiJfK",
        "colab_type": "code",
        "colab": {
          "base_uri": "https://localhost:8080/",
          "height": 119
        },
        "outputId": "ff2be885-0d8c-41ea-fc4f-6ca576de6407"
      },
      "source": [
        "# get importance\n",
        "importance = model.feature_importances_\n",
        "# summarize feature importance\n",
        "for i,v in enumerate(importance):\n",
        "\tprint('Feature: %0d, Score: %.5f' % (i,v))"
      ],
      "execution_count": null,
      "outputs": [
        {
          "output_type": "stream",
          "text": [
            "Feature: 0, Score: 0.03848\n",
            "Feature: 1, Score: 0.38651\n",
            "Feature: 2, Score: 0.04700\n",
            "Feature: 3, Score: 0.19700\n",
            "Feature: 4, Score: 0.33056\n",
            "Feature: 5, Score: 0.00046\n"
          ],
          "name": "stdout"
        }
      ]
    },
    {
      "cell_type": "code",
      "metadata": {
        "id": "6pQT0UxEiNNg",
        "colab_type": "code",
        "colab": {
          "base_uri": "https://localhost:8080/",
          "height": 281
        },
        "outputId": "53a52cb8-86dd-4a44-bd86-b6520f9157fc"
      },
      "source": [
        "# plot feature importance\n",
        "plt.title('A bar plot showing features importance')\n",
        "plt.bar([x for x in range(len(importance))], importance)\n",
        "plt.show()"
      ],
      "execution_count": null,
      "outputs": [
        {
          "output_type": "display_data",
          "data": {
            "image/png": "[encoded data removed]",
            "text/plain": [
              "<Figure size 432x288 with 1 Axes>"
            ]
          },
          "metadata": {
            "tags": [],
            "needs_background": "light"
          }
        }
      ]
    },
    {
      "cell_type": "code",
      "metadata": {
        "id": "tl0OJYlpiJde",
        "colab_type": "code",
        "colab": {}
      },
      "source": [
        ""
      ],
      "execution_count": null,
      "outputs": []
    },
    {
      "cell_type": "markdown",
      "metadata": {
        "colab_type": "text",
        "id": "SGS_h10qWxG1"
      },
      "source": [
        "##### LOGISTIC REGRESSION"
      ]
    },
    {
      "cell_type": "markdown",
      "metadata": {
        "id": "X2ehr44d_-uZ",
        "colab_type": "text"
      },
      "source": [
        "###### logistic regression using train and test split only"
      ]
    },
    {
      "cell_type": "code",
      "metadata": {
        "colab_type": "code",
        "id": "fNTQajFyU9-R",
        "colab": {
          "base_uri": "https://localhost:8080/",
          "height": 34
        },
        "outputId": "973d6116-b7b0-47d2-f321-06aeb1e9999a"
      },
      "source": [
        "df.shape"
      ],
      "execution_count": null,
      "outputs": [
        {
          "output_type": "execute_result",
          "data": {
            "text/plain": [
              "(8077, 10)"
            ]
          },
          "metadata": {
            "tags": []
          },
          "execution_count": 7
        }
      ]
    },
    {
      "cell_type": "code",
      "metadata": {
        "colab_type": "code",
        "id": "WIDDl1p9U9-U",
        "colab": {
          "base_uri": "https://localhost:8080/",
          "height": 34
        },
        "outputId": "5d28b416-2660-46e8-fca4-99a435e6de88"
      },
      "source": [
        "from sklearn.linear_model import LogisticRegression\n",
        "from sklearn import metrics\n",
        "\n",
        "X = pd.DataFrame([encoded_experiment,\n",
        "                  encoded_device_make,\n",
        "                  encoded_browser,\n",
        "                  encoded_date,\n",
        "                  df['hour'],\n",
        "                  df['platform_os']]).T\n",
        "y = df['target_values']\n",
        "\n",
        "X_train, X_test, y_train, y_test = train_test_split(X, y, test_size=0.2)\n",
        "\n",
        "# Initialize logistic regression model\n",
        "model = LogisticRegression(solver='lbfgs', max_iter=4000)\n",
        "model.fit(X_train, y_train)\n",
        "\n",
        "result = model.score(X_test, y_test)\n",
        "print(\"Accuracy: %.2f%%\" % (result*100.0))"
      ],
      "execution_count": 23,
      "outputs": [
        {
          "output_type": "stream",
          "text": [
            "Accuracy: 83.54%\n"
          ],
          "name": "stdout"
        }
      ]
    },
    {
      "cell_type": "markdown",
      "metadata": {
        "id": "0zv14wdtClGx",
        "colab_type": "text"
      },
      "source": [
        "###### logistic regression using k-fold cross validation"
      ]
    },
    {
      "cell_type": "code",
      "metadata": {
        "id": "FjffQq5sCdMI",
        "colab_type": "code",
        "colab": {
          "base_uri": "https://localhost:8080/",
          "height": 34
        },
        "outputId": "f323c71b-086c-49df-bc0c-0b69540af3d3"
      },
      "source": [
        "from sklearn import model_selection\n",
        "from sklearn.model_selection import KFold\n",
        "\n",
        "kfold = model_selection.KFold(n_splits=5)\n",
        "model_kfold = LogisticRegression(solver='lbfgs', max_iter=4000)\n",
        "results_kfold = model_selection.cross_val_score(model_kfold, X, y, cv=kfold)\n",
        "print(\"Accuracy: %.2f%%\" % (results_kfold.mean()*100.0)) "
      ],
      "execution_count": 24,
      "outputs": [
        {
          "output_type": "stream",
          "text": [
            "Accuracy: 84.61%\n"
          ],
          "name": "stdout"
        }
      ]
    },
    {
      "cell_type": "code",
      "metadata": {
        "id": "_G1Nc8iOE_25",
        "colab_type": "code",
        "colab": {
          "base_uri": "https://localhost:8080/",
          "height": 111
        },
        "outputId": "707c6d81-d702-4152-976b-7e131a6a14b7"
      },
      "source": [
        "kf = KFold(n_splits=5,shuffle=False)\n",
        "kf.split(X)  \n",
        "mdl = LogisticRegression(solver='lbfgs', max_iter=4000)\n",
        "\n",
        "for train_index, test_index in kf.split(X):\n",
        "    # Split train-test\n",
        "    X_train, X_test = X.iloc[train_index], X.iloc[test_index]\n",
        "    y_train, y_test = y[train_index], y[test_index]\n",
        "    # Train the model\n",
        "    model = mdl.fit(X_train, y_train)\n",
        "\n",
        "# Make predictions\n",
        "y_pred = model.predict(X_test)\n",
        "pd.crosstab(y_pred,y_test)"
      ],
      "execution_count": 25,
      "outputs": [
        {
          "output_type": "execute_result",
          "data": {
            "text/html": [
              "<div>\n",
              "<style scoped>\n",
              "    .dataframe tbody tr th:only-of-type {\n",
              "        vertical-align: middle;\n",
              "    }\n",
              "\n",
              "    .dataframe tbody tr th {\n",
              "        vertical-align: top;\n",
              "    }\n",
              "\n",
              "    .dataframe thead th {\n",
              "        text-align: right;\n",
              "    }\n",
              "</style>\n",
              "<table border=\"1\" class=\"dataframe\">\n",
              "  <thead>\n",
              "    <tr style=\"text-align: right;\">\n",
              "      <th>target_values</th>\n",
              "      <th>0</th>\n",
              "      <th>1</th>\n",
              "      <th>2</th>\n",
              "    </tr>\n",
              "    <tr>\n",
              "      <th>row_0</th>\n",
              "      <th></th>\n",
              "      <th></th>\n",
              "      <th></th>\n",
              "    </tr>\n",
              "  </thead>\n",
              "  <tbody>\n",
              "    <tr>\n",
              "      <th>2</th>\n",
              "      <td>139</td>\n",
              "      <td>124</td>\n",
              "      <td>1352</td>\n",
              "    </tr>\n",
              "  </tbody>\n",
              "</table>\n",
              "</div>"
            ],
            "text/plain": [
              "target_values    0    1     2\n",
              "row_0                        \n",
              "2              139  124  1352"
            ]
          },
          "metadata": {
            "tags": []
          },
          "execution_count": 25
        }
      ]
    },
    {
      "cell_type": "code",
      "metadata": {
        "id": "U8nA4Kv9Psza",
        "colab_type": "code",
        "colab": {
          "base_uri": "https://localhost:8080/",
          "height": 419
        },
        "outputId": "1119f21f-e5f2-4637-9c55-32b806898aef"
      },
      "source": [
        "# Generate table of predictions vs actual\n",
        "preds=pd.DataFrame({'Actual':y_test, 'Predicted':y_pred})\n",
        "preds"
      ],
      "execution_count": null,
      "outputs": [
        {
          "output_type": "execute_result",
          "data": {
            "text/html": [
              "<div>\n",
              "<style scoped>\n",
              "    .dataframe tbody tr th:only-of-type {\n",
              "        vertical-align: middle;\n",
              "    }\n",
              "\n",
              "    .dataframe tbody tr th {\n",
              "        vertical-align: top;\n",
              "    }\n",
              "\n",
              "    .dataframe thead th {\n",
              "        text-align: right;\n",
              "    }\n",
              "</style>\n",
              "<table border=\"1\" class=\"dataframe\">\n",
              "  <thead>\n",
              "    <tr style=\"text-align: right;\">\n",
              "      <th></th>\n",
              "      <th>Actual</th>\n",
              "      <th>Predicted</th>\n",
              "    </tr>\n",
              "  </thead>\n",
              "  <tbody>\n",
              "    <tr>\n",
              "      <th>6462</th>\n",
              "      <td>2</td>\n",
              "      <td>2</td>\n",
              "    </tr>\n",
              "    <tr>\n",
              "      <th>6463</th>\n",
              "      <td>2</td>\n",
              "      <td>2</td>\n",
              "    </tr>\n",
              "    <tr>\n",
              "      <th>6464</th>\n",
              "      <td>2</td>\n",
              "      <td>2</td>\n",
              "    </tr>\n",
              "    <tr>\n",
              "      <th>6465</th>\n",
              "      <td>2</td>\n",
              "      <td>2</td>\n",
              "    </tr>\n",
              "    <tr>\n",
              "      <th>6466</th>\n",
              "      <td>2</td>\n",
              "      <td>2</td>\n",
              "    </tr>\n",
              "    <tr>\n",
              "      <th>...</th>\n",
              "      <td>...</td>\n",
              "      <td>...</td>\n",
              "    </tr>\n",
              "    <tr>\n",
              "      <th>8072</th>\n",
              "      <td>2</td>\n",
              "      <td>2</td>\n",
              "    </tr>\n",
              "    <tr>\n",
              "      <th>8073</th>\n",
              "      <td>2</td>\n",
              "      <td>2</td>\n",
              "    </tr>\n",
              "    <tr>\n",
              "      <th>8074</th>\n",
              "      <td>2</td>\n",
              "      <td>2</td>\n",
              "    </tr>\n",
              "    <tr>\n",
              "      <th>8075</th>\n",
              "      <td>2</td>\n",
              "      <td>2</td>\n",
              "    </tr>\n",
              "    <tr>\n",
              "      <th>8076</th>\n",
              "      <td>2</td>\n",
              "      <td>2</td>\n",
              "    </tr>\n",
              "  </tbody>\n",
              "</table>\n",
              "<p>1615 rows × 2 columns</p>\n",
              "</div>"
            ],
            "text/plain": [
              "      Actual  Predicted\n",
              "6462       2          2\n",
              "6463       2          2\n",
              "6464       2          2\n",
              "6465       2          2\n",
              "6466       2          2\n",
              "...      ...        ...\n",
              "8072       2          2\n",
              "8073       2          2\n",
              "8074       2          2\n",
              "8075       2          2\n",
              "8076       2          2\n",
              "\n",
              "[1615 rows x 2 columns]"
            ]
          },
          "metadata": {
            "tags": []
          },
          "execution_count": 30
        }
      ]
    },
    {
      "cell_type": "markdown",
      "metadata": {
        "id": "fI8AcsDh6GLO",
        "colab_type": "text"
      },
      "source": [
        "comparing predicted values from regression against test values"
      ]
    },
    {
      "cell_type": "code",
      "metadata": {
        "id": "dbdRolo423KE",
        "colab_type": "code",
        "colab": {
          "base_uri": "https://localhost:8080/",
          "height": 350
        },
        "outputId": "3275d25c-f6d1-4ee9-fca5-ce3b608ce858"
      },
      "source": [
        "plot_preds(y_test, y_pred, \"logistic Regression\")"
      ],
      "execution_count": 26,
      "outputs": [
        {
          "output_type": "display_data",
          "data": {
            "image/png": "[encoded data removed]",
            "text/plain": [
              "<Figure size 720x360 with 1 Axes>"
            ]
          },
          "metadata": {
            "tags": [],
            "needs_background": "light"
          }
        }
      ]
    },
    {
      "cell_type": "markdown",
      "metadata": {
        "id": "WvQztxcnegF9",
        "colab_type": "text"
      },
      "source": [
        "FEATURE IMPORTANCE"
      ]
    },
    {
      "cell_type": "code",
      "metadata": {
        "id": "o_exD1cXepcR",
        "colab_type": "code",
        "colab": {
          "base_uri": "https://localhost:8080/",
          "height": 119
        },
        "outputId": "e9835f0b-3955-4a1f-bca2-5e41fc6838e0"
      },
      "source": [
        "# get importance\n",
        "importance = model.coef_[0]\n",
        "# summarize feature importance\n",
        "for i,v in enumerate(importance):\n",
        "\tprint('Feature: %0d, Score: %.5f' % (i,v))"
      ],
      "execution_count": null,
      "outputs": [
        {
          "output_type": "stream",
          "text": [
            "Feature: 0, Score: -0.04022\n",
            "Feature: 1, Score: -0.00045\n",
            "Feature: 2, Score: 0.01949\n",
            "Feature: 3, Score: -0.00294\n",
            "Feature: 4, Score: -0.01071\n",
            "Feature: 5, Score: 0.40090\n"
          ],
          "name": "stdout"
        }
      ]
    },
    {
      "cell_type": "code",
      "metadata": {
        "id": "zZD8qis8fpXb",
        "colab_type": "code",
        "colab": {
          "base_uri": "https://localhost:8080/",
          "height": 281
        },
        "outputId": "356c1134-6206-4bd1-821e-d774dd752fc5"
      },
      "source": [
        "# plot feature importance\n",
        "plt.title('A bar plot showing features importance')\n",
        "plt.bar([x for x in range(len(importance))], importance)\n",
        "plt.show()"
      ],
      "execution_count": null,
      "outputs": [
        {
          "output_type": "display_data",
          "data": {
            "image/png": "[encoded data removed]",
            "text/plain": [
              "<Figure size 432x288 with 1 Axes>"
            ]
          },
          "metadata": {
            "tags": [],
            "needs_background": "light"
          }
        }
      ]
    },
    {
      "cell_type": "markdown",
      "metadata": {
        "id": "7LT7K7TzohSh",
        "colab_type": "text"
      },
      "source": [
        "###### k-fold cross validation using XGBoost"
      ]
    },
    {
      "cell_type": "code",
      "metadata": {
        "id": "Mql6RLC-orNB",
        "colab_type": "code",
        "colab": {}
      },
      "source": [
        "import xgboost as xgb\n",
        "from sklearn.metrics import mean_squared_error"
      ],
      "execution_count": null,
      "outputs": []
    },
    {
      "cell_type": "code",
      "metadata": {
        "id": "KNxQ1bYoo610",
        "colab_type": "code",
        "colab": {
          "base_uri": "https://localhost:8080/",
          "height": 680
        },
        "outputId": "74690f81-cf4a-4975-de9f-c5af830a6ba5"
      },
      "source": [
        "X = pd.DataFrame([encoded_experiment,\n",
        "                  encoded_device_make,\n",
        "                  encoded_browser,\n",
        "                  encoded_date,\n",
        "                  df['hour'],\n",
        "                  df['platform_os']]).T\n",
        "y = df['target_values']\n",
        "\n",
        "\n",
        "kf = KFold(n_splits=5,shuffle=False)\n",
        "kf.split(X)  \n",
        "\n",
        "\n",
        "for train_index, test_index in kf.split(X):\n",
        "    # Split train-test\n",
        "    X_train, X_test = X.iloc[train_index], X.iloc[test_index]\n",
        "    y_train, y_test = y[train_index], y[test_index]\n",
        "\n",
        "#XGBoost Implementation\n",
        "#converting dataset into an optimized data structure\n",
        "dtrain = xgb.DMatrix(X_train, label=y_train)\n",
        "dvalid = xgb.DMatrix(X_test, label=y_test)\n",
        "\n",
        "watchlist = [(dtrain, 'train'), (dvalid, 'valid')]\n",
        "\n",
        "#kfolds\n",
        "params = {\"objective\":\"reg:linear\", 'eval_metric': 'rmse', 'colsample_bytree': 0.3,'learning_rate': 0.1,\n",
        "                'max_depth': 5, 'alpha': 10}\n",
        "\n",
        "model = xgb.train(params, dtrain, 500, watchlist, early_stopping_rounds=250,\n",
        "                  maximize=False, verbose_eval=15)"
      ],
      "execution_count": null,
      "outputs": [
        {
          "output_type": "stream",
          "text": [
            "[00:59:59] WARNING: /workspace/src/objective/regression_obj.cu:152: reg:linear is now deprecated in favor of reg:squarederror.\n",
            "[0]\ttrain-rmse:1.28163\tvalid-rmse:1.27434\n",
            "Multiple eval metrics have been passed: 'valid-rmse' will be used for early stopping.\n",
            "\n",
            "Will train until valid-rmse hasn't improved in 250 rounds.\n",
            "[15]\ttrain-rmse:0.631863\tvalid-rmse:0.638504\n",
            "[30]\ttrain-rmse:0.58741\tvalid-rmse:0.599237\n",
            "[45]\ttrain-rmse:0.584763\tvalid-rmse:0.597778\n",
            "[60]\ttrain-rmse:0.584194\tvalid-rmse:0.597718\n",
            "[75]\ttrain-rmse:0.583974\tvalid-rmse:0.597697\n",
            "[90]\ttrain-rmse:0.583817\tvalid-rmse:0.597496\n",
            "[105]\ttrain-rmse:0.583707\tvalid-rmse:0.597424\n",
            "[120]\ttrain-rmse:0.58361\tvalid-rmse:0.597343\n",
            "[135]\ttrain-rmse:0.583518\tvalid-rmse:0.597245\n",
            "[150]\ttrain-rmse:0.583425\tvalid-rmse:0.597154\n",
            "[165]\ttrain-rmse:0.583382\tvalid-rmse:0.597105\n",
            "[180]\ttrain-rmse:0.583331\tvalid-rmse:0.597064\n",
            "[195]\ttrain-rmse:0.583279\tvalid-rmse:0.597026\n",
            "[210]\ttrain-rmse:0.583234\tvalid-rmse:0.596949\n",
            "[225]\ttrain-rmse:0.58321\tvalid-rmse:0.596908\n",
            "[240]\ttrain-rmse:0.583189\tvalid-rmse:0.59689\n",
            "[255]\ttrain-rmse:0.583179\tvalid-rmse:0.59687\n",
            "[270]\ttrain-rmse:0.583158\tvalid-rmse:0.596839\n",
            "[285]\ttrain-rmse:0.583149\tvalid-rmse:0.596838\n",
            "[300]\ttrain-rmse:0.583144\tvalid-rmse:0.596834\n",
            "[315]\ttrain-rmse:0.583136\tvalid-rmse:0.596818\n",
            "[330]\ttrain-rmse:0.583125\tvalid-rmse:0.596802\n",
            "[345]\ttrain-rmse:0.583121\tvalid-rmse:0.596797\n",
            "[360]\ttrain-rmse:0.583118\tvalid-rmse:0.59679\n",
            "[375]\ttrain-rmse:0.583116\tvalid-rmse:0.596788\n",
            "[390]\ttrain-rmse:0.583114\tvalid-rmse:0.596786\n",
            "[405]\ttrain-rmse:0.583111\tvalid-rmse:0.596782\n",
            "[420]\ttrain-rmse:0.583111\tvalid-rmse:0.596781\n",
            "[435]\ttrain-rmse:0.583109\tvalid-rmse:0.596778\n",
            "[450]\ttrain-rmse:0.583106\tvalid-rmse:0.596774\n",
            "[465]\ttrain-rmse:0.583105\tvalid-rmse:0.596773\n",
            "[480]\ttrain-rmse:0.583105\tvalid-rmse:0.596772\n",
            "[495]\ttrain-rmse:0.583107\tvalid-rmse:0.596771\n",
            "[499]\ttrain-rmse:0.583107\tvalid-rmse:0.596771\n"
          ],
          "name": "stdout"
        }
      ]
    },
    {
      "cell_type": "markdown",
      "metadata": {
        "id": "FPj-WFGRujTw",
        "colab_type": "text"
      },
      "source": [
        "final boosting round metric"
      ]
    },
    {
      "cell_type": "code",
      "metadata": {
        "id": "GwFv35NqumXQ",
        "colab_type": "code",
        "colab": {
          "base_uri": "https://localhost:8080/",
          "height": 51
        },
        "outputId": "af75f26c-1d06-43e5-9768-07ee265fe0a7"
      },
      "source": [
        "ytest = model.predict(dtest)"
      ],
      "execution_count": null,
      "outputs": [
        {
          "output_type": "stream",
          "text": [
            "49    0.588296\n",
            "Name: test-rmse-mean, dtype: float64\n"
          ],
          "name": "stdout"
        }
      ]
    }
  ]
}